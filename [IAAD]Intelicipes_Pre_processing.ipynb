{
  "nbformat": 4,
  "nbformat_minor": 0,
  "metadata": {
    "colab": {
      "name": " [IAAD]Intelicipes - Pre-processing.ipynb",
      "provenance": [],
      "collapsed_sections": [
        "ofrGNGb7_MKR",
        "pRyTeqFzM4Kl"
      ],
      "include_colab_link": true
    },
    "kernelspec": {
      "name": "python3",
      "display_name": "Python 3"
    }
  },
  "cells": [
    {
      "cell_type": "markdown",
      "metadata": {
        "id": "view-in-github",
        "colab_type": "text"
      },
      "source": [
        "<a href=\"https://colab.research.google.com/github/stefsoliveira/iaad/blob/main/%5BIAAD%5DIntelicipes_Pre_processing.ipynb\" target=\"_parent\"><img src=\"https://colab.research.google.com/assets/colab-badge.svg\" alt=\"Open In Colab\"/></a>"
      ]
    },
    {
      "cell_type": "markdown",
      "metadata": {
        "id": "ofrGNGb7_MKR"
      },
      "source": [
        "# Preparation"
      ]
    },
    {
      "cell_type": "markdown",
      "metadata": {
        "id": "pQds_RA9EnKQ"
      },
      "source": [
        "## Import libraries"
      ]
    },
    {
      "cell_type": "code",
      "metadata": {
        "id": "sZem68KdEQgS"
      },
      "source": [
        "import pandas as pd\n",
        "import numpy as np\n",
        "import matplotlib.pyplot as plt"
      ],
      "execution_count": 418,
      "outputs": []
    },
    {
      "cell_type": "markdown",
      "metadata": {
        "id": "BL4UGFG9FBZ7"
      },
      "source": [
        "## Importing the dataset from the google drive"
      ]
    },
    {
      "cell_type": "code",
      "metadata": {
        "id": "cDfSk39fFDJP",
        "colab": {
          "base_uri": "https://localhost:8080/"
        },
        "outputId": "3220a456-968f-4790-a12d-dc2569c19536"
      },
      "source": [
        "from google.colab import drive\n",
        "drive.mount('/content/drive')"
      ],
      "execution_count": 419,
      "outputs": [
        {
          "output_type": "stream",
          "text": [
            "Drive already mounted at /content/drive; to attempt to forcibly remount, call drive.mount(\"/content/drive\", force_remount=True).\n"
          ],
          "name": "stdout"
        }
      ]
    },
    {
      "cell_type": "markdown",
      "metadata": {
        "id": "bTizHz6QlVOR"
      },
      "source": [
        "## Importing the tables"
      ]
    },
    {
      "cell_type": "code",
      "metadata": {
        "id": "g4WTvHHhIBqB"
      },
      "source": [
        "recipe = pd.read_csv('/content/drive/My Drive/InteliCipes/RAW_recipes.csv')\n",
        "interaction = pd.read_csv('/content/drive/My Drive/InteliCipes/RAW_interactions.csv')\n",
        "recipe_classification = pd.read_csv('/content/drive/My Drive/InteliCipes/recipe_classification.csv')"
      ],
      "execution_count": 420,
      "outputs": []
    },
    {
      "cell_type": "markdown",
      "metadata": {
        "id": "to_FSoVjIR_x"
      },
      "source": [
        "## Removing null values"
      ]
    },
    {
      "cell_type": "code",
      "metadata": {
        "colab": {
          "base_uri": "https://localhost:8080/"
        },
        "id": "9s4kQ5808Y-s",
        "outputId": "85878cbf-6da8-4da6-edca-862df1864fd4"
      },
      "source": [
        "recipe.isnull().any()\n",
        "\n"
      ],
      "execution_count": 421,
      "outputs": [
        {
          "output_type": "execute_result",
          "data": {
            "text/plain": [
              "name               True\n",
              "id                False\n",
              "minutes           False\n",
              "contributor_id    False\n",
              "submitted         False\n",
              "tags              False\n",
              "nutrition         False\n",
              "n_steps           False\n",
              "steps             False\n",
              "description        True\n",
              "ingredients       False\n",
              "n_ingredients     False\n",
              "dtype: bool"
            ]
          },
          "metadata": {
            "tags": []
          },
          "execution_count": 421
        }
      ]
    },
    {
      "cell_type": "code",
      "metadata": {
        "colab": {
          "base_uri": "https://localhost:8080/"
        },
        "id": "mvSefi7g89_U",
        "outputId": "12429f8c-679f-4789-81a8-3e5bef28c43a"
      },
      "source": [
        "interaction.isnull().any()\n"
      ],
      "execution_count": 422,
      "outputs": [
        {
          "output_type": "execute_result",
          "data": {
            "text/plain": [
              "user_id      False\n",
              "recipe_id    False\n",
              "date         False\n",
              "rating       False\n",
              "review        True\n",
              "dtype: bool"
            ]
          },
          "metadata": {
            "tags": []
          },
          "execution_count": 422
        }
      ]
    },
    {
      "cell_type": "code",
      "metadata": {
        "colab": {
          "base_uri": "https://localhost:8080/"
        },
        "id": "xARAjEpY8_tW",
        "outputId": "0087fe0d-c7d4-4b46-aee1-031e49e4ab0a"
      },
      "source": [
        "recipe_classification.isnull().any()"
      ],
      "execution_count": 423,
      "outputs": [
        {
          "output_type": "execute_result",
          "data": {
            "text/plain": [
              "Unnamed: 0                False\n",
              "sugar_calories            False\n",
              "sugar_calories_col        False\n",
              "fat_sugar_calories        False\n",
              "fat_sugar_calories_col    False\n",
              "all_nutrition             False\n",
              "all_nutrition_col         False\n",
              "id                        False\n",
              "dtype: bool"
            ]
          },
          "metadata": {
            "tags": []
          },
          "execution_count": 423
        }
      ]
    },
    {
      "cell_type": "code",
      "metadata": {
        "id": "g9HK-7yYITjw"
      },
      "source": [
        "recipe.dropna(axis=0, inplace=True)\n",
        "interaction.dropna(axis=0, inplace=True)\n",
        "recipe_classification.dropna(axis=0, inplace=True)"
      ],
      "execution_count": 424,
      "outputs": []
    },
    {
      "cell_type": "markdown",
      "metadata": {
        "id": "nyMKcYeQ3rHm"
      },
      "source": [
        "##Remove duplicates"
      ]
    },
    {
      "cell_type": "code",
      "metadata": {
        "colab": {
          "base_uri": "https://localhost:8080/"
        },
        "id": "LVTusWQTzf0d",
        "outputId": "3cbf3cc6-d380-4252-bbb4-66bbaefbf4cf"
      },
      "source": [
        "boolean = recipe.duplicated(subset=['id']).any()\n",
        "boolean"
      ],
      "execution_count": 425,
      "outputs": [
        {
          "output_type": "execute_result",
          "data": {
            "text/plain": [
              "False"
            ]
          },
          "metadata": {
            "tags": []
          },
          "execution_count": 425
        }
      ]
    },
    {
      "cell_type": "code",
      "metadata": {
        "colab": {
          "base_uri": "https://localhost:8080/"
        },
        "id": "MHAWbqTb-gJb",
        "outputId": "32fc01ea-f697-430e-8816-5d19f8380b44"
      },
      "source": [
        "boolean = interaction.duplicated(subset=['user_id']).any()\n",
        "boolean"
      ],
      "execution_count": 426,
      "outputs": [
        {
          "output_type": "execute_result",
          "data": {
            "text/plain": [
              "True"
            ]
          },
          "metadata": {
            "tags": []
          },
          "execution_count": 426
        }
      ]
    },
    {
      "cell_type": "code",
      "metadata": {
        "colab": {
          "base_uri": "https://localhost:8080/"
        },
        "id": "JcC3t9Sy-kw7",
        "outputId": "3454b577-0db3-4dd3-fee6-0587c03ac8f6"
      },
      "source": [
        "boolean = recipe_classification.duplicated(subset=['id']).any()\n",
        "boolean"
      ],
      "execution_count": 427,
      "outputs": [
        {
          "output_type": "execute_result",
          "data": {
            "text/plain": [
              "False"
            ]
          },
          "metadata": {
            "tags": []
          },
          "execution_count": 427
        }
      ]
    },
    {
      "cell_type": "code",
      "metadata": {
        "colab": {
          "base_uri": "https://localhost:8080/",
          "height": 1000
        },
        "id": "D9xqJxnaARu8",
        "outputId": "a0c24706-fe65-48f6-bad7-2b9be7fc394f"
      },
      "source": [
        "recipe = recipe.drop_duplicates(subset=['id'])\n",
        "recipe"
      ],
      "execution_count": 428,
      "outputs": [
        {
          "output_type": "execute_result",
          "data": {
            "text/html": [
              "<div>\n",
              "<style scoped>\n",
              "    .dataframe tbody tr th:only-of-type {\n",
              "        vertical-align: middle;\n",
              "    }\n",
              "\n",
              "    .dataframe tbody tr th {\n",
              "        vertical-align: top;\n",
              "    }\n",
              "\n",
              "    .dataframe thead th {\n",
              "        text-align: right;\n",
              "    }\n",
              "</style>\n",
              "<table border=\"1\" class=\"dataframe\">\n",
              "  <thead>\n",
              "    <tr style=\"text-align: right;\">\n",
              "      <th></th>\n",
              "      <th>name</th>\n",
              "      <th>id</th>\n",
              "      <th>minutes</th>\n",
              "      <th>contributor_id</th>\n",
              "      <th>submitted</th>\n",
              "      <th>tags</th>\n",
              "      <th>nutrition</th>\n",
              "      <th>n_steps</th>\n",
              "      <th>steps</th>\n",
              "      <th>description</th>\n",
              "      <th>ingredients</th>\n",
              "      <th>n_ingredients</th>\n",
              "    </tr>\n",
              "  </thead>\n",
              "  <tbody>\n",
              "    <tr>\n",
              "      <th>0</th>\n",
              "      <td>arriba   baked winter squash mexican style</td>\n",
              "      <td>137739</td>\n",
              "      <td>55</td>\n",
              "      <td>47892</td>\n",
              "      <td>2005-09-16</td>\n",
              "      <td>['60-minutes-or-less', 'time-to-make', 'course...</td>\n",
              "      <td>[51.5, 0.0, 13.0, 0.0, 2.0, 0.0, 4.0]</td>\n",
              "      <td>11</td>\n",
              "      <td>['make a choice and proceed with recipe', 'dep...</td>\n",
              "      <td>autumn is my favorite time of year to cook! th...</td>\n",
              "      <td>['winter squash', 'mexican seasoning', 'mixed ...</td>\n",
              "      <td>7</td>\n",
              "    </tr>\n",
              "    <tr>\n",
              "      <th>1</th>\n",
              "      <td>a bit different  breakfast pizza</td>\n",
              "      <td>31490</td>\n",
              "      <td>30</td>\n",
              "      <td>26278</td>\n",
              "      <td>2002-06-17</td>\n",
              "      <td>['30-minutes-or-less', 'time-to-make', 'course...</td>\n",
              "      <td>[173.4, 18.0, 0.0, 17.0, 22.0, 35.0, 1.0]</td>\n",
              "      <td>9</td>\n",
              "      <td>['preheat oven to 425 degrees f', 'press dough...</td>\n",
              "      <td>this recipe calls for the crust to be prebaked...</td>\n",
              "      <td>['prepared pizza crust', 'sausage patty', 'egg...</td>\n",
              "      <td>6</td>\n",
              "    </tr>\n",
              "    <tr>\n",
              "      <th>2</th>\n",
              "      <td>all in the kitchen  chili</td>\n",
              "      <td>112140</td>\n",
              "      <td>130</td>\n",
              "      <td>196586</td>\n",
              "      <td>2005-02-25</td>\n",
              "      <td>['time-to-make', 'course', 'preparation', 'mai...</td>\n",
              "      <td>[269.8, 22.0, 32.0, 48.0, 39.0, 27.0, 5.0]</td>\n",
              "      <td>6</td>\n",
              "      <td>['brown ground beef in large pot', 'add choppe...</td>\n",
              "      <td>this modified version of 'mom's' chili was a h...</td>\n",
              "      <td>['ground beef', 'yellow onions', 'diced tomato...</td>\n",
              "      <td>13</td>\n",
              "    </tr>\n",
              "    <tr>\n",
              "      <th>3</th>\n",
              "      <td>alouette  potatoes</td>\n",
              "      <td>59389</td>\n",
              "      <td>45</td>\n",
              "      <td>68585</td>\n",
              "      <td>2003-04-14</td>\n",
              "      <td>['60-minutes-or-less', 'time-to-make', 'course...</td>\n",
              "      <td>[368.1, 17.0, 10.0, 2.0, 14.0, 8.0, 20.0]</td>\n",
              "      <td>11</td>\n",
              "      <td>['place potatoes in a large pot of lightly sal...</td>\n",
              "      <td>this is a super easy, great tasting, make ahea...</td>\n",
              "      <td>['spreadable cheese with garlic and herbs', 'n...</td>\n",
              "      <td>11</td>\n",
              "    </tr>\n",
              "    <tr>\n",
              "      <th>4</th>\n",
              "      <td>amish  tomato ketchup  for canning</td>\n",
              "      <td>44061</td>\n",
              "      <td>190</td>\n",
              "      <td>41706</td>\n",
              "      <td>2002-10-25</td>\n",
              "      <td>['weeknight', 'time-to-make', 'course', 'main-...</td>\n",
              "      <td>[352.9, 1.0, 337.0, 23.0, 3.0, 0.0, 28.0]</td>\n",
              "      <td>5</td>\n",
              "      <td>['mix all ingredients&amp; boil for 2 1 / 2 hours ...</td>\n",
              "      <td>my dh's amish mother raised him on this recipe...</td>\n",
              "      <td>['tomato juice', 'apple cider vinegar', 'sugar...</td>\n",
              "      <td>8</td>\n",
              "    </tr>\n",
              "    <tr>\n",
              "      <th>...</th>\n",
              "      <td>...</td>\n",
              "      <td>...</td>\n",
              "      <td>...</td>\n",
              "      <td>...</td>\n",
              "      <td>...</td>\n",
              "      <td>...</td>\n",
              "      <td>...</td>\n",
              "      <td>...</td>\n",
              "      <td>...</td>\n",
              "      <td>...</td>\n",
              "      <td>...</td>\n",
              "      <td>...</td>\n",
              "    </tr>\n",
              "    <tr>\n",
              "      <th>231632</th>\n",
              "      <td>zydeco soup</td>\n",
              "      <td>486161</td>\n",
              "      <td>60</td>\n",
              "      <td>227978</td>\n",
              "      <td>2012-08-29</td>\n",
              "      <td>['ham', '60-minutes-or-less', 'time-to-make', ...</td>\n",
              "      <td>[415.2, 26.0, 34.0, 26.0, 44.0, 21.0, 15.0]</td>\n",
              "      <td>7</td>\n",
              "      <td>['heat oil in a 4-quart dutch oven', 'add cele...</td>\n",
              "      <td>this is a delicious soup that i originally fou...</td>\n",
              "      <td>['celery', 'onion', 'green sweet pepper', 'gar...</td>\n",
              "      <td>22</td>\n",
              "    </tr>\n",
              "    <tr>\n",
              "      <th>231633</th>\n",
              "      <td>zydeco spice mix</td>\n",
              "      <td>493372</td>\n",
              "      <td>5</td>\n",
              "      <td>1500678</td>\n",
              "      <td>2013-01-09</td>\n",
              "      <td>['15-minutes-or-less', 'time-to-make', 'course...</td>\n",
              "      <td>[14.8, 0.0, 2.0, 58.0, 1.0, 0.0, 1.0]</td>\n",
              "      <td>1</td>\n",
              "      <td>['mix all ingredients together thoroughly']</td>\n",
              "      <td>this spice mix will make your taste buds dance!</td>\n",
              "      <td>['paprika', 'salt', 'garlic powder', 'onion po...</td>\n",
              "      <td>13</td>\n",
              "    </tr>\n",
              "    <tr>\n",
              "      <th>231634</th>\n",
              "      <td>zydeco ya ya deviled eggs</td>\n",
              "      <td>308080</td>\n",
              "      <td>40</td>\n",
              "      <td>37779</td>\n",
              "      <td>2008-06-07</td>\n",
              "      <td>['60-minutes-or-less', 'time-to-make', 'course...</td>\n",
              "      <td>[59.2, 6.0, 2.0, 3.0, 6.0, 5.0, 0.0]</td>\n",
              "      <td>7</td>\n",
              "      <td>['in a bowl , combine the mashed yolks and may...</td>\n",
              "      <td>deviled eggs, cajun-style</td>\n",
              "      <td>['hard-cooked eggs', 'mayonnaise', 'dijon must...</td>\n",
              "      <td>8</td>\n",
              "    </tr>\n",
              "    <tr>\n",
              "      <th>231635</th>\n",
              "      <td>cookies by design   cookies on a stick</td>\n",
              "      <td>298512</td>\n",
              "      <td>29</td>\n",
              "      <td>506822</td>\n",
              "      <td>2008-04-15</td>\n",
              "      <td>['30-minutes-or-less', 'time-to-make', 'course...</td>\n",
              "      <td>[188.0, 11.0, 57.0, 11.0, 7.0, 21.0, 9.0]</td>\n",
              "      <td>9</td>\n",
              "      <td>['place melted butter in a large mixing bowl a...</td>\n",
              "      <td>i've heard of the 'cookies by design' company,...</td>\n",
              "      <td>['butter', 'eagle brand condensed milk', 'ligh...</td>\n",
              "      <td>10</td>\n",
              "    </tr>\n",
              "    <tr>\n",
              "      <th>231636</th>\n",
              "      <td>cookies by design   sugar shortbread cookies</td>\n",
              "      <td>298509</td>\n",
              "      <td>20</td>\n",
              "      <td>506822</td>\n",
              "      <td>2008-04-15</td>\n",
              "      <td>['30-minutes-or-less', 'time-to-make', 'course...</td>\n",
              "      <td>[174.9, 14.0, 33.0, 4.0, 4.0, 11.0, 6.0]</td>\n",
              "      <td>5</td>\n",
              "      <td>['whip sugar and shortening in a large bowl , ...</td>\n",
              "      <td>i've heard of the 'cookies by design' company,...</td>\n",
              "      <td>['granulated sugar', 'shortening', 'eggs', 'fl...</td>\n",
              "      <td>7</td>\n",
              "    </tr>\n",
              "  </tbody>\n",
              "</table>\n",
              "<p>226657 rows × 12 columns</p>\n",
              "</div>"
            ],
            "text/plain": [
              "                                                name  ...  n_ingredients\n",
              "0         arriba   baked winter squash mexican style  ...              7\n",
              "1                   a bit different  breakfast pizza  ...              6\n",
              "2                          all in the kitchen  chili  ...             13\n",
              "3                                 alouette  potatoes  ...             11\n",
              "4                 amish  tomato ketchup  for canning  ...              8\n",
              "...                                              ...  ...            ...\n",
              "231632                                   zydeco soup  ...             22\n",
              "231633                              zydeco spice mix  ...             13\n",
              "231634                     zydeco ya ya deviled eggs  ...              8\n",
              "231635        cookies by design   cookies on a stick  ...             10\n",
              "231636  cookies by design   sugar shortbread cookies  ...              7\n",
              "\n",
              "[226657 rows x 12 columns]"
            ]
          },
          "metadata": {
            "tags": []
          },
          "execution_count": 428
        }
      ]
    },
    {
      "cell_type": "code",
      "metadata": {
        "colab": {
          "base_uri": "https://localhost:8080/",
          "height": 407
        },
        "id": "i-uR1FMtt0yz",
        "outputId": "94bd67c5-f2f4-4978-9ad3-cf630b9eddab"
      },
      "source": [
        "interaction = interaction.drop_duplicates(subset=['user_id'])\n",
        "interaction"
      ],
      "execution_count": 429,
      "outputs": [
        {
          "output_type": "execute_result",
          "data": {
            "text/html": [
              "<div>\n",
              "<style scoped>\n",
              "    .dataframe tbody tr th:only-of-type {\n",
              "        vertical-align: middle;\n",
              "    }\n",
              "\n",
              "    .dataframe tbody tr th {\n",
              "        vertical-align: top;\n",
              "    }\n",
              "\n",
              "    .dataframe thead th {\n",
              "        text-align: right;\n",
              "    }\n",
              "</style>\n",
              "<table border=\"1\" class=\"dataframe\">\n",
              "  <thead>\n",
              "    <tr style=\"text-align: right;\">\n",
              "      <th></th>\n",
              "      <th>user_id</th>\n",
              "      <th>recipe_id</th>\n",
              "      <th>date</th>\n",
              "      <th>rating</th>\n",
              "      <th>review</th>\n",
              "    </tr>\n",
              "  </thead>\n",
              "  <tbody>\n",
              "    <tr>\n",
              "      <th>0</th>\n",
              "      <td>38094</td>\n",
              "      <td>40893</td>\n",
              "      <td>2003-02-17</td>\n",
              "      <td>4</td>\n",
              "      <td>Great with a salad. Cooked on top of stove for...</td>\n",
              "    </tr>\n",
              "    <tr>\n",
              "      <th>1</th>\n",
              "      <td>1293707</td>\n",
              "      <td>40893</td>\n",
              "      <td>2011-12-21</td>\n",
              "      <td>5</td>\n",
              "      <td>So simple, so delicious! Great for chilly fall...</td>\n",
              "    </tr>\n",
              "    <tr>\n",
              "      <th>2</th>\n",
              "      <td>8937</td>\n",
              "      <td>44394</td>\n",
              "      <td>2002-12-01</td>\n",
              "      <td>4</td>\n",
              "      <td>This worked very well and is EASY.  I used not...</td>\n",
              "    </tr>\n",
              "    <tr>\n",
              "      <th>3</th>\n",
              "      <td>126440</td>\n",
              "      <td>85009</td>\n",
              "      <td>2010-02-27</td>\n",
              "      <td>5</td>\n",
              "      <td>I made the Mexican topping and took it to bunk...</td>\n",
              "    </tr>\n",
              "    <tr>\n",
              "      <th>4</th>\n",
              "      <td>57222</td>\n",
              "      <td>85009</td>\n",
              "      <td>2011-10-01</td>\n",
              "      <td>5</td>\n",
              "      <td>Made the cheddar bacon topping, adding a sprin...</td>\n",
              "    </tr>\n",
              "    <tr>\n",
              "      <th>...</th>\n",
              "      <td>...</td>\n",
              "      <td>...</td>\n",
              "      <td>...</td>\n",
              "      <td>...</td>\n",
              "      <td>...</td>\n",
              "    </tr>\n",
              "    <tr>\n",
              "      <th>1132358</th>\n",
              "      <td>2000137415</td>\n",
              "      <td>82303</td>\n",
              "      <td>2015-04-13</td>\n",
              "      <td>1</td>\n",
              "      <td>I&amp;#039;ve improvised sauces that turned out be...</td>\n",
              "    </tr>\n",
              "    <tr>\n",
              "      <th>1132359</th>\n",
              "      <td>2001898209</td>\n",
              "      <td>82303</td>\n",
              "      <td>2018-07-05</td>\n",
              "      <td>5</td>\n",
              "      <td>This is the best and easiest hot fudge ever. I...</td>\n",
              "    </tr>\n",
              "    <tr>\n",
              "      <th>1132360</th>\n",
              "      <td>2002357020</td>\n",
              "      <td>82303</td>\n",
              "      <td>2018-12-05</td>\n",
              "      <td>5</td>\n",
              "      <td>Delicious quick thick chocolate sauce with ing...</td>\n",
              "    </tr>\n",
              "    <tr>\n",
              "      <th>1132362</th>\n",
              "      <td>116593</td>\n",
              "      <td>72730</td>\n",
              "      <td>2003-12-09</td>\n",
              "      <td>0</td>\n",
              "      <td>Another approach is to start making sauce with...</td>\n",
              "    </tr>\n",
              "    <tr>\n",
              "      <th>1132366</th>\n",
              "      <td>2001868099</td>\n",
              "      <td>78003</td>\n",
              "      <td>2017-12-18</td>\n",
              "      <td>5</td>\n",
              "      <td>I am so glad I googled and found this here. Th...</td>\n",
              "    </tr>\n",
              "  </tbody>\n",
              "</table>\n",
              "<p>226419 rows × 5 columns</p>\n",
              "</div>"
            ],
            "text/plain": [
              "            user_id  ...                                             review\n",
              "0             38094  ...  Great with a salad. Cooked on top of stove for...\n",
              "1           1293707  ...  So simple, so delicious! Great for chilly fall...\n",
              "2              8937  ...  This worked very well and is EASY.  I used not...\n",
              "3            126440  ...  I made the Mexican topping and took it to bunk...\n",
              "4             57222  ...  Made the cheddar bacon topping, adding a sprin...\n",
              "...             ...  ...                                                ...\n",
              "1132358  2000137415  ...  I&#039;ve improvised sauces that turned out be...\n",
              "1132359  2001898209  ...  This is the best and easiest hot fudge ever. I...\n",
              "1132360  2002357020  ...  Delicious quick thick chocolate sauce with ing...\n",
              "1132362      116593  ...  Another approach is to start making sauce with...\n",
              "1132366  2001868099  ...  I am so glad I googled and found this here. Th...\n",
              "\n",
              "[226419 rows x 5 columns]"
            ]
          },
          "metadata": {
            "tags": []
          },
          "execution_count": 429
        }
      ]
    },
    {
      "cell_type": "code",
      "metadata": {
        "colab": {
          "base_uri": "https://localhost:8080/",
          "height": 445
        },
        "id": "7BTyrJKPAVys",
        "outputId": "65ee5739-d9d2-4d2a-acb9-1ac9a254fb37"
      },
      "source": [
        "recipe_classification = recipe_classification.drop_duplicates(subset=['id'])\n",
        "recipe_classification"
      ],
      "execution_count": 430,
      "outputs": [
        {
          "output_type": "execute_result",
          "data": {
            "text/html": [
              "<div>\n",
              "<style scoped>\n",
              "    .dataframe tbody tr th:only-of-type {\n",
              "        vertical-align: middle;\n",
              "    }\n",
              "\n",
              "    .dataframe tbody tr th {\n",
              "        vertical-align: top;\n",
              "    }\n",
              "\n",
              "    .dataframe thead th {\n",
              "        text-align: right;\n",
              "    }\n",
              "</style>\n",
              "<table border=\"1\" class=\"dataframe\">\n",
              "  <thead>\n",
              "    <tr style=\"text-align: right;\">\n",
              "      <th></th>\n",
              "      <th>Unnamed: 0</th>\n",
              "      <th>sugar_calories</th>\n",
              "      <th>sugar_calories_col</th>\n",
              "      <th>fat_sugar_calories</th>\n",
              "      <th>fat_sugar_calories_col</th>\n",
              "      <th>all_nutrition</th>\n",
              "      <th>all_nutrition_col</th>\n",
              "      <th>id</th>\n",
              "    </tr>\n",
              "  </thead>\n",
              "  <tbody>\n",
              "    <tr>\n",
              "      <th>0</th>\n",
              "      <td>126987</td>\n",
              "      <td>4</td>\n",
              "      <td>red</td>\n",
              "      <td>1</td>\n",
              "      <td>red</td>\n",
              "      <td>0</td>\n",
              "      <td>red</td>\n",
              "      <td>38</td>\n",
              "    </tr>\n",
              "    <tr>\n",
              "      <th>1</th>\n",
              "      <td>23695</td>\n",
              "      <td>3</td>\n",
              "      <td>purple</td>\n",
              "      <td>5</td>\n",
              "      <td>green</td>\n",
              "      <td>6</td>\n",
              "      <td>gray</td>\n",
              "      <td>39</td>\n",
              "    </tr>\n",
              "    <tr>\n",
              "      <th>2</th>\n",
              "      <td>22701</td>\n",
              "      <td>0</td>\n",
              "      <td>red</td>\n",
              "      <td>1</td>\n",
              "      <td>red</td>\n",
              "      <td>0</td>\n",
              "      <td>red</td>\n",
              "      <td>40</td>\n",
              "    </tr>\n",
              "    <tr>\n",
              "      <th>3</th>\n",
              "      <td>36412</td>\n",
              "      <td>0</td>\n",
              "      <td>red</td>\n",
              "      <td>0</td>\n",
              "      <td>red</td>\n",
              "      <td>4</td>\n",
              "      <td>orange</td>\n",
              "      <td>41</td>\n",
              "    </tr>\n",
              "    <tr>\n",
              "      <th>4</th>\n",
              "      <td>22217</td>\n",
              "      <td>0</td>\n",
              "      <td>red</td>\n",
              "      <td>0</td>\n",
              "      <td>red</td>\n",
              "      <td>4</td>\n",
              "      <td>orange</td>\n",
              "      <td>43</td>\n",
              "    </tr>\n",
              "    <tr>\n",
              "      <th>...</th>\n",
              "      <td>...</td>\n",
              "      <td>...</td>\n",
              "      <td>...</td>\n",
              "      <td>...</td>\n",
              "      <td>...</td>\n",
              "      <td>...</td>\n",
              "      <td>...</td>\n",
              "      <td>...</td>\n",
              "    </tr>\n",
              "    <tr>\n",
              "      <th>226649</th>\n",
              "      <td>13104</td>\n",
              "      <td>4</td>\n",
              "      <td>red</td>\n",
              "      <td>1</td>\n",
              "      <td>red</td>\n",
              "      <td>0</td>\n",
              "      <td>red</td>\n",
              "      <td>537459</td>\n",
              "    </tr>\n",
              "    <tr>\n",
              "      <th>226650</th>\n",
              "      <td>1547</td>\n",
              "      <td>4</td>\n",
              "      <td>red</td>\n",
              "      <td>1</td>\n",
              "      <td>red</td>\n",
              "      <td>0</td>\n",
              "      <td>red</td>\n",
              "      <td>537485</td>\n",
              "    </tr>\n",
              "    <tr>\n",
              "      <th>226651</th>\n",
              "      <td>137661</td>\n",
              "      <td>7</td>\n",
              "      <td>purple</td>\n",
              "      <td>5</td>\n",
              "      <td>green</td>\n",
              "      <td>6</td>\n",
              "      <td>gray</td>\n",
              "      <td>537543</td>\n",
              "    </tr>\n",
              "    <tr>\n",
              "      <th>226652</th>\n",
              "      <td>145532</td>\n",
              "      <td>4</td>\n",
              "      <td>red</td>\n",
              "      <td>1</td>\n",
              "      <td>red</td>\n",
              "      <td>0</td>\n",
              "      <td>red</td>\n",
              "      <td>537671</td>\n",
              "    </tr>\n",
              "    <tr>\n",
              "      <th>226653</th>\n",
              "      <td>136065</td>\n",
              "      <td>0</td>\n",
              "      <td>red</td>\n",
              "      <td>0</td>\n",
              "      <td>red</td>\n",
              "      <td>4</td>\n",
              "      <td>orange</td>\n",
              "      <td>537716</td>\n",
              "    </tr>\n",
              "  </tbody>\n",
              "</table>\n",
              "<p>226654 rows × 8 columns</p>\n",
              "</div>"
            ],
            "text/plain": [
              "        Unnamed: 0  sugar_calories  ... all_nutrition_col      id\n",
              "0           126987               4  ...               red      38\n",
              "1            23695               3  ...              gray      39\n",
              "2            22701               0  ...               red      40\n",
              "3            36412               0  ...            orange      41\n",
              "4            22217               0  ...            orange      43\n",
              "...            ...             ...  ...               ...     ...\n",
              "226649       13104               4  ...               red  537459\n",
              "226650        1547               4  ...               red  537485\n",
              "226651      137661               7  ...              gray  537543\n",
              "226652      145532               4  ...               red  537671\n",
              "226653      136065               0  ...            orange  537716\n",
              "\n",
              "[226654 rows x 8 columns]"
            ]
          },
          "metadata": {
            "tags": []
          },
          "execution_count": 430
        }
      ]
    },
    {
      "cell_type": "markdown",
      "metadata": {
        "id": "jQCWlQssAoJH"
      },
      "source": [
        "##Spliting nutrition (N1)"
      ]
    },
    {
      "cell_type": "code",
      "metadata": {
        "colab": {
          "base_uri": "https://localhost:8080/",
          "height": 407
        },
        "id": "ukq1XAB4AxBg",
        "outputId": "b6e8aa19-bd6c-4e7d-a0d6-9bb104e9055a"
      },
      "source": [
        "nutrition = recipe.loc[:,['id','nutrition']]\n",
        "nutrition"
      ],
      "execution_count": 431,
      "outputs": [
        {
          "output_type": "execute_result",
          "data": {
            "text/html": [
              "<div>\n",
              "<style scoped>\n",
              "    .dataframe tbody tr th:only-of-type {\n",
              "        vertical-align: middle;\n",
              "    }\n",
              "\n",
              "    .dataframe tbody tr th {\n",
              "        vertical-align: top;\n",
              "    }\n",
              "\n",
              "    .dataframe thead th {\n",
              "        text-align: right;\n",
              "    }\n",
              "</style>\n",
              "<table border=\"1\" class=\"dataframe\">\n",
              "  <thead>\n",
              "    <tr style=\"text-align: right;\">\n",
              "      <th></th>\n",
              "      <th>id</th>\n",
              "      <th>nutrition</th>\n",
              "    </tr>\n",
              "  </thead>\n",
              "  <tbody>\n",
              "    <tr>\n",
              "      <th>0</th>\n",
              "      <td>137739</td>\n",
              "      <td>[51.5, 0.0, 13.0, 0.0, 2.0, 0.0, 4.0]</td>\n",
              "    </tr>\n",
              "    <tr>\n",
              "      <th>1</th>\n",
              "      <td>31490</td>\n",
              "      <td>[173.4, 18.0, 0.0, 17.0, 22.0, 35.0, 1.0]</td>\n",
              "    </tr>\n",
              "    <tr>\n",
              "      <th>2</th>\n",
              "      <td>112140</td>\n",
              "      <td>[269.8, 22.0, 32.0, 48.0, 39.0, 27.0, 5.0]</td>\n",
              "    </tr>\n",
              "    <tr>\n",
              "      <th>3</th>\n",
              "      <td>59389</td>\n",
              "      <td>[368.1, 17.0, 10.0, 2.0, 14.0, 8.0, 20.0]</td>\n",
              "    </tr>\n",
              "    <tr>\n",
              "      <th>4</th>\n",
              "      <td>44061</td>\n",
              "      <td>[352.9, 1.0, 337.0, 23.0, 3.0, 0.0, 28.0]</td>\n",
              "    </tr>\n",
              "    <tr>\n",
              "      <th>...</th>\n",
              "      <td>...</td>\n",
              "      <td>...</td>\n",
              "    </tr>\n",
              "    <tr>\n",
              "      <th>231632</th>\n",
              "      <td>486161</td>\n",
              "      <td>[415.2, 26.0, 34.0, 26.0, 44.0, 21.0, 15.0]</td>\n",
              "    </tr>\n",
              "    <tr>\n",
              "      <th>231633</th>\n",
              "      <td>493372</td>\n",
              "      <td>[14.8, 0.0, 2.0, 58.0, 1.0, 0.0, 1.0]</td>\n",
              "    </tr>\n",
              "    <tr>\n",
              "      <th>231634</th>\n",
              "      <td>308080</td>\n",
              "      <td>[59.2, 6.0, 2.0, 3.0, 6.0, 5.0, 0.0]</td>\n",
              "    </tr>\n",
              "    <tr>\n",
              "      <th>231635</th>\n",
              "      <td>298512</td>\n",
              "      <td>[188.0, 11.0, 57.0, 11.0, 7.0, 21.0, 9.0]</td>\n",
              "    </tr>\n",
              "    <tr>\n",
              "      <th>231636</th>\n",
              "      <td>298509</td>\n",
              "      <td>[174.9, 14.0, 33.0, 4.0, 4.0, 11.0, 6.0]</td>\n",
              "    </tr>\n",
              "  </tbody>\n",
              "</table>\n",
              "<p>226657 rows × 2 columns</p>\n",
              "</div>"
            ],
            "text/plain": [
              "            id                                    nutrition\n",
              "0       137739        [51.5, 0.0, 13.0, 0.0, 2.0, 0.0, 4.0]\n",
              "1        31490    [173.4, 18.0, 0.0, 17.0, 22.0, 35.0, 1.0]\n",
              "2       112140   [269.8, 22.0, 32.0, 48.0, 39.0, 27.0, 5.0]\n",
              "3        59389    [368.1, 17.0, 10.0, 2.0, 14.0, 8.0, 20.0]\n",
              "4        44061    [352.9, 1.0, 337.0, 23.0, 3.0, 0.0, 28.0]\n",
              "...        ...                                          ...\n",
              "231632  486161  [415.2, 26.0, 34.0, 26.0, 44.0, 21.0, 15.0]\n",
              "231633  493372        [14.8, 0.0, 2.0, 58.0, 1.0, 0.0, 1.0]\n",
              "231634  308080         [59.2, 6.0, 2.0, 3.0, 6.0, 5.0, 0.0]\n",
              "231635  298512    [188.0, 11.0, 57.0, 11.0, 7.0, 21.0, 9.0]\n",
              "231636  298509     [174.9, 14.0, 33.0, 4.0, 4.0, 11.0, 6.0]\n",
              "\n",
              "[226657 rows x 2 columns]"
            ]
          },
          "metadata": {
            "tags": []
          },
          "execution_count": 431
        }
      ]
    },
    {
      "cell_type": "code",
      "metadata": {
        "colab": {
          "base_uri": "https://localhost:8080/",
          "height": 407
        },
        "id": "8DNnZeA9CRry",
        "outputId": "35d0880c-40e1-4838-8fbb-e0f3d7b7daa6"
      },
      "source": [
        "nutrition['nutrition'] = nutrition['nutrition'].str.extract('\\[(.*?)\\]', expand=False)\n",
        "nutrition"
      ],
      "execution_count": 432,
      "outputs": [
        {
          "output_type": "execute_result",
          "data": {
            "text/html": [
              "<div>\n",
              "<style scoped>\n",
              "    .dataframe tbody tr th:only-of-type {\n",
              "        vertical-align: middle;\n",
              "    }\n",
              "\n",
              "    .dataframe tbody tr th {\n",
              "        vertical-align: top;\n",
              "    }\n",
              "\n",
              "    .dataframe thead th {\n",
              "        text-align: right;\n",
              "    }\n",
              "</style>\n",
              "<table border=\"1\" class=\"dataframe\">\n",
              "  <thead>\n",
              "    <tr style=\"text-align: right;\">\n",
              "      <th></th>\n",
              "      <th>id</th>\n",
              "      <th>nutrition</th>\n",
              "    </tr>\n",
              "  </thead>\n",
              "  <tbody>\n",
              "    <tr>\n",
              "      <th>0</th>\n",
              "      <td>137739</td>\n",
              "      <td>51.5, 0.0, 13.0, 0.0, 2.0, 0.0, 4.0</td>\n",
              "    </tr>\n",
              "    <tr>\n",
              "      <th>1</th>\n",
              "      <td>31490</td>\n",
              "      <td>173.4, 18.0, 0.0, 17.0, 22.0, 35.0, 1.0</td>\n",
              "    </tr>\n",
              "    <tr>\n",
              "      <th>2</th>\n",
              "      <td>112140</td>\n",
              "      <td>269.8, 22.0, 32.0, 48.0, 39.0, 27.0, 5.0</td>\n",
              "    </tr>\n",
              "    <tr>\n",
              "      <th>3</th>\n",
              "      <td>59389</td>\n",
              "      <td>368.1, 17.0, 10.0, 2.0, 14.0, 8.0, 20.0</td>\n",
              "    </tr>\n",
              "    <tr>\n",
              "      <th>4</th>\n",
              "      <td>44061</td>\n",
              "      <td>352.9, 1.0, 337.0, 23.0, 3.0, 0.0, 28.0</td>\n",
              "    </tr>\n",
              "    <tr>\n",
              "      <th>...</th>\n",
              "      <td>...</td>\n",
              "      <td>...</td>\n",
              "    </tr>\n",
              "    <tr>\n",
              "      <th>231632</th>\n",
              "      <td>486161</td>\n",
              "      <td>415.2, 26.0, 34.0, 26.0, 44.0, 21.0, 15.0</td>\n",
              "    </tr>\n",
              "    <tr>\n",
              "      <th>231633</th>\n",
              "      <td>493372</td>\n",
              "      <td>14.8, 0.0, 2.0, 58.0, 1.0, 0.0, 1.0</td>\n",
              "    </tr>\n",
              "    <tr>\n",
              "      <th>231634</th>\n",
              "      <td>308080</td>\n",
              "      <td>59.2, 6.0, 2.0, 3.0, 6.0, 5.0, 0.0</td>\n",
              "    </tr>\n",
              "    <tr>\n",
              "      <th>231635</th>\n",
              "      <td>298512</td>\n",
              "      <td>188.0, 11.0, 57.0, 11.0, 7.0, 21.0, 9.0</td>\n",
              "    </tr>\n",
              "    <tr>\n",
              "      <th>231636</th>\n",
              "      <td>298509</td>\n",
              "      <td>174.9, 14.0, 33.0, 4.0, 4.0, 11.0, 6.0</td>\n",
              "    </tr>\n",
              "  </tbody>\n",
              "</table>\n",
              "<p>226657 rows × 2 columns</p>\n",
              "</div>"
            ],
            "text/plain": [
              "            id                                  nutrition\n",
              "0       137739        51.5, 0.0, 13.0, 0.0, 2.0, 0.0, 4.0\n",
              "1        31490    173.4, 18.0, 0.0, 17.0, 22.0, 35.0, 1.0\n",
              "2       112140   269.8, 22.0, 32.0, 48.0, 39.0, 27.0, 5.0\n",
              "3        59389    368.1, 17.0, 10.0, 2.0, 14.0, 8.0, 20.0\n",
              "4        44061    352.9, 1.0, 337.0, 23.0, 3.0, 0.0, 28.0\n",
              "...        ...                                        ...\n",
              "231632  486161  415.2, 26.0, 34.0, 26.0, 44.0, 21.0, 15.0\n",
              "231633  493372        14.8, 0.0, 2.0, 58.0, 1.0, 0.0, 1.0\n",
              "231634  308080         59.2, 6.0, 2.0, 3.0, 6.0, 5.0, 0.0\n",
              "231635  298512    188.0, 11.0, 57.0, 11.0, 7.0, 21.0, 9.0\n",
              "231636  298509     174.9, 14.0, 33.0, 4.0, 4.0, 11.0, 6.0\n",
              "\n",
              "[226657 rows x 2 columns]"
            ]
          },
          "metadata": {
            "tags": []
          },
          "execution_count": 432
        }
      ]
    },
    {
      "cell_type": "code",
      "metadata": {
        "colab": {
          "base_uri": "https://localhost:8080/"
        },
        "id": "F9DYKO-kBELD",
        "outputId": "eedeee6e-e21c-427d-c2b3-e80f32155a61"
      },
      "source": [
        "nutrition_splitted = nutrition[\"nutrition\"].str.split(\",\")\n",
        "nutrition_splitted.head()"
      ],
      "execution_count": 433,
      "outputs": [
        {
          "output_type": "execute_result",
          "data": {
            "text/plain": [
              "0         [51.5,  0.0,  13.0,  0.0,  2.0,  0.0,  4.0]\n",
              "1     [173.4,  18.0,  0.0,  17.0,  22.0,  35.0,  1.0]\n",
              "2    [269.8,  22.0,  32.0,  48.0,  39.0,  27.0,  5.0]\n",
              "3     [368.1,  17.0,  10.0,  2.0,  14.0,  8.0,  20.0]\n",
              "4     [352.9,  1.0,  337.0,  23.0,  3.0,  0.0,  28.0]\n",
              "Name: nutrition, dtype: object"
            ]
          },
          "metadata": {
            "tags": []
          },
          "execution_count": 433
        }
      ]
    },
    {
      "cell_type": "code",
      "metadata": {
        "colab": {
          "base_uri": "https://localhost:8080/",
          "height": 407
        },
        "id": "aBtcnxSVBMJZ",
        "outputId": "a23bd86f-e2e3-45c0-d4d4-3e2af763a398"
      },
      "source": [
        "nutrition[\"calories\"] = nutrition_splitted.str.get(0)\n",
        "nutrition[\"total_fat\"] = nutrition_splitted.str.get(1)\n",
        "nutrition[\"sugar\"] = nutrition_splitted.str.get(2)\n",
        "nutrition[\"sodium\"] = nutrition_splitted.str.get(4)\n",
        "nutrition[\"protein\"] = nutrition_splitted.str.get(5)\n",
        "nutrition[\"saturated_fat\"] = nutrition_splitted.str.get(6)\n",
        "nutrition"
      ],
      "execution_count": 434,
      "outputs": [
        {
          "output_type": "execute_result",
          "data": {
            "text/html": [
              "<div>\n",
              "<style scoped>\n",
              "    .dataframe tbody tr th:only-of-type {\n",
              "        vertical-align: middle;\n",
              "    }\n",
              "\n",
              "    .dataframe tbody tr th {\n",
              "        vertical-align: top;\n",
              "    }\n",
              "\n",
              "    .dataframe thead th {\n",
              "        text-align: right;\n",
              "    }\n",
              "</style>\n",
              "<table border=\"1\" class=\"dataframe\">\n",
              "  <thead>\n",
              "    <tr style=\"text-align: right;\">\n",
              "      <th></th>\n",
              "      <th>id</th>\n",
              "      <th>nutrition</th>\n",
              "      <th>calories</th>\n",
              "      <th>total_fat</th>\n",
              "      <th>sugar</th>\n",
              "      <th>sodium</th>\n",
              "      <th>protein</th>\n",
              "      <th>saturated_fat</th>\n",
              "    </tr>\n",
              "  </thead>\n",
              "  <tbody>\n",
              "    <tr>\n",
              "      <th>0</th>\n",
              "      <td>137739</td>\n",
              "      <td>51.5, 0.0, 13.0, 0.0, 2.0, 0.0, 4.0</td>\n",
              "      <td>51.5</td>\n",
              "      <td>0.0</td>\n",
              "      <td>13.0</td>\n",
              "      <td>2.0</td>\n",
              "      <td>0.0</td>\n",
              "      <td>4.0</td>\n",
              "    </tr>\n",
              "    <tr>\n",
              "      <th>1</th>\n",
              "      <td>31490</td>\n",
              "      <td>173.4, 18.0, 0.0, 17.0, 22.0, 35.0, 1.0</td>\n",
              "      <td>173.4</td>\n",
              "      <td>18.0</td>\n",
              "      <td>0.0</td>\n",
              "      <td>22.0</td>\n",
              "      <td>35.0</td>\n",
              "      <td>1.0</td>\n",
              "    </tr>\n",
              "    <tr>\n",
              "      <th>2</th>\n",
              "      <td>112140</td>\n",
              "      <td>269.8, 22.0, 32.0, 48.0, 39.0, 27.0, 5.0</td>\n",
              "      <td>269.8</td>\n",
              "      <td>22.0</td>\n",
              "      <td>32.0</td>\n",
              "      <td>39.0</td>\n",
              "      <td>27.0</td>\n",
              "      <td>5.0</td>\n",
              "    </tr>\n",
              "    <tr>\n",
              "      <th>3</th>\n",
              "      <td>59389</td>\n",
              "      <td>368.1, 17.0, 10.0, 2.0, 14.0, 8.0, 20.0</td>\n",
              "      <td>368.1</td>\n",
              "      <td>17.0</td>\n",
              "      <td>10.0</td>\n",
              "      <td>14.0</td>\n",
              "      <td>8.0</td>\n",
              "      <td>20.0</td>\n",
              "    </tr>\n",
              "    <tr>\n",
              "      <th>4</th>\n",
              "      <td>44061</td>\n",
              "      <td>352.9, 1.0, 337.0, 23.0, 3.0, 0.0, 28.0</td>\n",
              "      <td>352.9</td>\n",
              "      <td>1.0</td>\n",
              "      <td>337.0</td>\n",
              "      <td>3.0</td>\n",
              "      <td>0.0</td>\n",
              "      <td>28.0</td>\n",
              "    </tr>\n",
              "    <tr>\n",
              "      <th>...</th>\n",
              "      <td>...</td>\n",
              "      <td>...</td>\n",
              "      <td>...</td>\n",
              "      <td>...</td>\n",
              "      <td>...</td>\n",
              "      <td>...</td>\n",
              "      <td>...</td>\n",
              "      <td>...</td>\n",
              "    </tr>\n",
              "    <tr>\n",
              "      <th>231632</th>\n",
              "      <td>486161</td>\n",
              "      <td>415.2, 26.0, 34.0, 26.0, 44.0, 21.0, 15.0</td>\n",
              "      <td>415.2</td>\n",
              "      <td>26.0</td>\n",
              "      <td>34.0</td>\n",
              "      <td>44.0</td>\n",
              "      <td>21.0</td>\n",
              "      <td>15.0</td>\n",
              "    </tr>\n",
              "    <tr>\n",
              "      <th>231633</th>\n",
              "      <td>493372</td>\n",
              "      <td>14.8, 0.0, 2.0, 58.0, 1.0, 0.0, 1.0</td>\n",
              "      <td>14.8</td>\n",
              "      <td>0.0</td>\n",
              "      <td>2.0</td>\n",
              "      <td>1.0</td>\n",
              "      <td>0.0</td>\n",
              "      <td>1.0</td>\n",
              "    </tr>\n",
              "    <tr>\n",
              "      <th>231634</th>\n",
              "      <td>308080</td>\n",
              "      <td>59.2, 6.0, 2.0, 3.0, 6.0, 5.0, 0.0</td>\n",
              "      <td>59.2</td>\n",
              "      <td>6.0</td>\n",
              "      <td>2.0</td>\n",
              "      <td>6.0</td>\n",
              "      <td>5.0</td>\n",
              "      <td>0.0</td>\n",
              "    </tr>\n",
              "    <tr>\n",
              "      <th>231635</th>\n",
              "      <td>298512</td>\n",
              "      <td>188.0, 11.0, 57.0, 11.0, 7.0, 21.0, 9.0</td>\n",
              "      <td>188.0</td>\n",
              "      <td>11.0</td>\n",
              "      <td>57.0</td>\n",
              "      <td>7.0</td>\n",
              "      <td>21.0</td>\n",
              "      <td>9.0</td>\n",
              "    </tr>\n",
              "    <tr>\n",
              "      <th>231636</th>\n",
              "      <td>298509</td>\n",
              "      <td>174.9, 14.0, 33.0, 4.0, 4.0, 11.0, 6.0</td>\n",
              "      <td>174.9</td>\n",
              "      <td>14.0</td>\n",
              "      <td>33.0</td>\n",
              "      <td>4.0</td>\n",
              "      <td>11.0</td>\n",
              "      <td>6.0</td>\n",
              "    </tr>\n",
              "  </tbody>\n",
              "</table>\n",
              "<p>226657 rows × 8 columns</p>\n",
              "</div>"
            ],
            "text/plain": [
              "            id                                  nutrition  ... protein saturated_fat\n",
              "0       137739        51.5, 0.0, 13.0, 0.0, 2.0, 0.0, 4.0  ...     0.0           4.0\n",
              "1        31490    173.4, 18.0, 0.0, 17.0, 22.0, 35.0, 1.0  ...    35.0           1.0\n",
              "2       112140   269.8, 22.0, 32.0, 48.0, 39.0, 27.0, 5.0  ...    27.0           5.0\n",
              "3        59389    368.1, 17.0, 10.0, 2.0, 14.0, 8.0, 20.0  ...     8.0          20.0\n",
              "4        44061    352.9, 1.0, 337.0, 23.0, 3.0, 0.0, 28.0  ...     0.0          28.0\n",
              "...        ...                                        ...  ...     ...           ...\n",
              "231632  486161  415.2, 26.0, 34.0, 26.0, 44.0, 21.0, 15.0  ...    21.0          15.0\n",
              "231633  493372        14.8, 0.0, 2.0, 58.0, 1.0, 0.0, 1.0  ...     0.0           1.0\n",
              "231634  308080         59.2, 6.0, 2.0, 3.0, 6.0, 5.0, 0.0  ...     5.0           0.0\n",
              "231635  298512    188.0, 11.0, 57.0, 11.0, 7.0, 21.0, 9.0  ...    21.0           9.0\n",
              "231636  298509     174.9, 14.0, 33.0, 4.0, 4.0, 11.0, 6.0  ...    11.0           6.0\n",
              "\n",
              "[226657 rows x 8 columns]"
            ]
          },
          "metadata": {
            "tags": []
          },
          "execution_count": 434
        }
      ]
    },
    {
      "cell_type": "code",
      "metadata": {
        "colab": {
          "base_uri": "https://localhost:8080/"
        },
        "id": "Dh7_c4YTC7z7",
        "outputId": "c33133f9-48de-44ea-db23-f4d2b375256c"
      },
      "source": [
        "nutrition.calories=nutrition.calories.astype('float32')\n",
        "nutrition.total_fat=nutrition.total_fat.astype('float32')\n",
        "nutrition.sugar=nutrition.sugar.astype('float32')\n",
        "nutrition.sodium=nutrition.sodium.astype('float32')\n",
        "nutrition.protein=nutrition.protein.astype('float32')\n",
        "nutrition.saturated_fat=nutrition.saturated_fat.astype('float32')\n",
        "nutrition.info()"
      ],
      "execution_count": 435,
      "outputs": [
        {
          "output_type": "stream",
          "text": [
            "<class 'pandas.core.frame.DataFrame'>\n",
            "Int64Index: 226657 entries, 0 to 231636\n",
            "Data columns (total 8 columns):\n",
            " #   Column         Non-Null Count   Dtype  \n",
            "---  ------         --------------   -----  \n",
            " 0   id             226657 non-null  int64  \n",
            " 1   nutrition      226657 non-null  object \n",
            " 2   calories       226657 non-null  float32\n",
            " 3   total_fat      226657 non-null  float32\n",
            " 4   sugar          226657 non-null  float32\n",
            " 5   sodium         226657 non-null  float32\n",
            " 6   protein        226657 non-null  float32\n",
            " 7   saturated_fat  226657 non-null  float32\n",
            "dtypes: float32(6), int64(1), object(1)\n",
            "memory usage: 10.4+ MB\n"
          ],
          "name": "stdout"
        }
      ]
    },
    {
      "cell_type": "markdown",
      "metadata": {
        "id": "1izyZ5Wv9mYK"
      },
      "source": [
        "## Removing columns that will not serve"
      ]
    },
    {
      "cell_type": "code",
      "metadata": {
        "colab": {
          "base_uri": "https://localhost:8080/",
          "height": 580
        },
        "id": "zjnNDEZ4042P",
        "outputId": "3e33a6e7-8eba-4567-a12a-5bad51a27a63"
      },
      "source": [
        "other_columns = recipe.loc[:,['id','nutrition', 'tags', 'ingredients', 'steps', 'contributor_id']]\n",
        "other_columns"
      ],
      "execution_count": 436,
      "outputs": [
        {
          "output_type": "execute_result",
          "data": {
            "text/html": [
              "<div>\n",
              "<style scoped>\n",
              "    .dataframe tbody tr th:only-of-type {\n",
              "        vertical-align: middle;\n",
              "    }\n",
              "\n",
              "    .dataframe tbody tr th {\n",
              "        vertical-align: top;\n",
              "    }\n",
              "\n",
              "    .dataframe thead th {\n",
              "        text-align: right;\n",
              "    }\n",
              "</style>\n",
              "<table border=\"1\" class=\"dataframe\">\n",
              "  <thead>\n",
              "    <tr style=\"text-align: right;\">\n",
              "      <th></th>\n",
              "      <th>id</th>\n",
              "      <th>nutrition</th>\n",
              "      <th>tags</th>\n",
              "      <th>ingredients</th>\n",
              "      <th>steps</th>\n",
              "      <th>contributor_id</th>\n",
              "    </tr>\n",
              "  </thead>\n",
              "  <tbody>\n",
              "    <tr>\n",
              "      <th>0</th>\n",
              "      <td>137739</td>\n",
              "      <td>[51.5, 0.0, 13.0, 0.0, 2.0, 0.0, 4.0]</td>\n",
              "      <td>['60-minutes-or-less', 'time-to-make', 'course...</td>\n",
              "      <td>['winter squash', 'mexican seasoning', 'mixed ...</td>\n",
              "      <td>['make a choice and proceed with recipe', 'dep...</td>\n",
              "      <td>47892</td>\n",
              "    </tr>\n",
              "    <tr>\n",
              "      <th>1</th>\n",
              "      <td>31490</td>\n",
              "      <td>[173.4, 18.0, 0.0, 17.0, 22.0, 35.0, 1.0]</td>\n",
              "      <td>['30-minutes-or-less', 'time-to-make', 'course...</td>\n",
              "      <td>['prepared pizza crust', 'sausage patty', 'egg...</td>\n",
              "      <td>['preheat oven to 425 degrees f', 'press dough...</td>\n",
              "      <td>26278</td>\n",
              "    </tr>\n",
              "    <tr>\n",
              "      <th>2</th>\n",
              "      <td>112140</td>\n",
              "      <td>[269.8, 22.0, 32.0, 48.0, 39.0, 27.0, 5.0]</td>\n",
              "      <td>['time-to-make', 'course', 'preparation', 'mai...</td>\n",
              "      <td>['ground beef', 'yellow onions', 'diced tomato...</td>\n",
              "      <td>['brown ground beef in large pot', 'add choppe...</td>\n",
              "      <td>196586</td>\n",
              "    </tr>\n",
              "    <tr>\n",
              "      <th>3</th>\n",
              "      <td>59389</td>\n",
              "      <td>[368.1, 17.0, 10.0, 2.0, 14.0, 8.0, 20.0]</td>\n",
              "      <td>['60-minutes-or-less', 'time-to-make', 'course...</td>\n",
              "      <td>['spreadable cheese with garlic and herbs', 'n...</td>\n",
              "      <td>['place potatoes in a large pot of lightly sal...</td>\n",
              "      <td>68585</td>\n",
              "    </tr>\n",
              "    <tr>\n",
              "      <th>4</th>\n",
              "      <td>44061</td>\n",
              "      <td>[352.9, 1.0, 337.0, 23.0, 3.0, 0.0, 28.0]</td>\n",
              "      <td>['weeknight', 'time-to-make', 'course', 'main-...</td>\n",
              "      <td>['tomato juice', 'apple cider vinegar', 'sugar...</td>\n",
              "      <td>['mix all ingredients&amp; boil for 2 1 / 2 hours ...</td>\n",
              "      <td>41706</td>\n",
              "    </tr>\n",
              "    <tr>\n",
              "      <th>...</th>\n",
              "      <td>...</td>\n",
              "      <td>...</td>\n",
              "      <td>...</td>\n",
              "      <td>...</td>\n",
              "      <td>...</td>\n",
              "      <td>...</td>\n",
              "    </tr>\n",
              "    <tr>\n",
              "      <th>231632</th>\n",
              "      <td>486161</td>\n",
              "      <td>[415.2, 26.0, 34.0, 26.0, 44.0, 21.0, 15.0]</td>\n",
              "      <td>['ham', '60-minutes-or-less', 'time-to-make', ...</td>\n",
              "      <td>['celery', 'onion', 'green sweet pepper', 'gar...</td>\n",
              "      <td>['heat oil in a 4-quart dutch oven', 'add cele...</td>\n",
              "      <td>227978</td>\n",
              "    </tr>\n",
              "    <tr>\n",
              "      <th>231633</th>\n",
              "      <td>493372</td>\n",
              "      <td>[14.8, 0.0, 2.0, 58.0, 1.0, 0.0, 1.0]</td>\n",
              "      <td>['15-minutes-or-less', 'time-to-make', 'course...</td>\n",
              "      <td>['paprika', 'salt', 'garlic powder', 'onion po...</td>\n",
              "      <td>['mix all ingredients together thoroughly']</td>\n",
              "      <td>1500678</td>\n",
              "    </tr>\n",
              "    <tr>\n",
              "      <th>231634</th>\n",
              "      <td>308080</td>\n",
              "      <td>[59.2, 6.0, 2.0, 3.0, 6.0, 5.0, 0.0]</td>\n",
              "      <td>['60-minutes-or-less', 'time-to-make', 'course...</td>\n",
              "      <td>['hard-cooked eggs', 'mayonnaise', 'dijon must...</td>\n",
              "      <td>['in a bowl , combine the mashed yolks and may...</td>\n",
              "      <td>37779</td>\n",
              "    </tr>\n",
              "    <tr>\n",
              "      <th>231635</th>\n",
              "      <td>298512</td>\n",
              "      <td>[188.0, 11.0, 57.0, 11.0, 7.0, 21.0, 9.0]</td>\n",
              "      <td>['30-minutes-or-less', 'time-to-make', 'course...</td>\n",
              "      <td>['butter', 'eagle brand condensed milk', 'ligh...</td>\n",
              "      <td>['place melted butter in a large mixing bowl a...</td>\n",
              "      <td>506822</td>\n",
              "    </tr>\n",
              "    <tr>\n",
              "      <th>231636</th>\n",
              "      <td>298509</td>\n",
              "      <td>[174.9, 14.0, 33.0, 4.0, 4.0, 11.0, 6.0]</td>\n",
              "      <td>['30-minutes-or-less', 'time-to-make', 'course...</td>\n",
              "      <td>['granulated sugar', 'shortening', 'eggs', 'fl...</td>\n",
              "      <td>['whip sugar and shortening in a large bowl , ...</td>\n",
              "      <td>506822</td>\n",
              "    </tr>\n",
              "  </tbody>\n",
              "</table>\n",
              "<p>226657 rows × 6 columns</p>\n",
              "</div>"
            ],
            "text/plain": [
              "            id  ... contributor_id\n",
              "0       137739  ...          47892\n",
              "1        31490  ...          26278\n",
              "2       112140  ...         196586\n",
              "3        59389  ...          68585\n",
              "4        44061  ...          41706\n",
              "...        ...  ...            ...\n",
              "231632  486161  ...         227978\n",
              "231633  493372  ...        1500678\n",
              "231634  308080  ...          37779\n",
              "231635  298512  ...         506822\n",
              "231636  298509  ...         506822\n",
              "\n",
              "[226657 rows x 6 columns]"
            ]
          },
          "metadata": {
            "tags": []
          },
          "execution_count": 436
        }
      ]
    },
    {
      "cell_type": "code",
      "metadata": {
        "colab": {
          "base_uri": "https://localhost:8080/"
        },
        "id": "FNXVq0U31meh",
        "outputId": "817f0dcf-c3ac-41dc-ae9f-c8d5eb844b09"
      },
      "source": [
        "recipe=recipe.drop(columns=['nutrition', 'tags', 'ingredients', 'steps', 'submitted'])\n",
        "print(recipe.columns)"
      ],
      "execution_count": 437,
      "outputs": [
        {
          "output_type": "stream",
          "text": [
            "Index(['name', 'id', 'minutes', 'contributor_id', 'n_steps', 'description',\n",
            "       'n_ingredients'],\n",
            "      dtype='object')\n"
          ],
          "name": "stdout"
        }
      ]
    },
    {
      "cell_type": "code",
      "metadata": {
        "colab": {
          "base_uri": "https://localhost:8080/"
        },
        "id": "LUXwTG3JFXJ8",
        "outputId": "69620b43-1b63-464d-b275-8312d1ee07ba"
      },
      "source": [
        "nutrition=nutrition.drop(columns=['nutrition',])\n",
        "print(nutrition.columns) "
      ],
      "execution_count": 438,
      "outputs": [
        {
          "output_type": "stream",
          "text": [
            "Index(['id', 'calories', 'total_fat', 'sugar', 'sodium', 'protein',\n",
            "       'saturated_fat'],\n",
            "      dtype='object')\n"
          ],
          "name": "stdout"
        }
      ]
    },
    {
      "cell_type": "code",
      "metadata": {
        "colab": {
          "base_uri": "https://localhost:8080/"
        },
        "id": "97nR-yRgGFDW",
        "outputId": "55f1bad3-76bd-44c4-b7c1-2b86054ec31e"
      },
      "source": [
        "recipe_classification = recipe_classification.drop(columns=['Unnamed: 0','sugar_calories',\t'sugar_calories_col','all_nutrition',\t'all_nutrition_col' ])\n",
        "print(recipe_classification.columns) "
      ],
      "execution_count": 439,
      "outputs": [
        {
          "output_type": "stream",
          "text": [
            "Index(['fat_sugar_calories', 'fat_sugar_calories_col', 'id'], dtype='object')\n"
          ],
          "name": "stdout"
        }
      ]
    },
    {
      "cell_type": "markdown",
      "metadata": {
        "id": "KCji57H5LGe_"
      },
      "source": [
        "## Rename columns"
      ]
    },
    {
      "cell_type": "code",
      "metadata": {
        "id": "uLpT1-4kLOAO",
        "colab": {
          "base_uri": "https://localhost:8080/"
        },
        "outputId": "c59fc851-045d-4322-9ab7-acb3a5732eb9"
      },
      "source": [
        "recipe.rename(columns={'name': 'name_recipe', 'description': 'description_recipe' }, inplace=True)\n",
        "print(recipe.columns)"
      ],
      "execution_count": 440,
      "outputs": [
        {
          "output_type": "stream",
          "text": [
            "Index(['name_recipe', 'id', 'minutes', 'contributor_id', 'n_steps',\n",
            "       'description_recipe', 'n_ingredients'],\n",
            "      dtype='object')\n"
          ],
          "name": "stdout"
        }
      ]
    },
    {
      "cell_type": "code",
      "metadata": {
        "colab": {
          "base_uri": "https://localhost:8080/"
        },
        "id": "nH99-5-_FoNf",
        "outputId": "0430f3c2-7dae-4ed3-ff5b-e8f644023c2c"
      },
      "source": [
        "nutrition.rename(columns={'id': 'recipe_id'}, inplace=True)\n",
        "print(nutrition.columns)"
      ],
      "execution_count": 441,
      "outputs": [
        {
          "output_type": "stream",
          "text": [
            "Index(['recipe_id', 'calories', 'total_fat', 'sugar', 'sodium', 'protein',\n",
            "       'saturated_fat'],\n",
            "      dtype='object')\n"
          ],
          "name": "stdout"
        }
      ]
    },
    {
      "cell_type": "code",
      "metadata": {
        "colab": {
          "base_uri": "https://localhost:8080/"
        },
        "id": "B3FnXHhEGwSa",
        "outputId": "be25922b-8366-413e-9695-d03ad3d41852"
      },
      "source": [
        "recipe_classification.rename(columns={'fat_sugar_calories': 'classification_id', 'fat_sugar_calories_col':'classification_group', 'id':'recipe_id' }, inplace=True)\n",
        "print(recipe_classification.columns)"
      ],
      "execution_count": 442,
      "outputs": [
        {
          "output_type": "stream",
          "text": [
            "Index(['classification_id', 'classification_group', 'recipe_id'], dtype='object')\n"
          ],
          "name": "stdout"
        }
      ]
    },
    {
      "cell_type": "markdown",
      "metadata": {
        "id": "fXAVOBodxYwI"
      },
      "source": [
        "# Modify type"
      ]
    },
    {
      "cell_type": "code",
      "metadata": {
        "id": "BY4pcQIVxhvd"
      },
      "source": [
        "recipe.id=recipe.id.astype('int32')\n",
        "recipe.minutes=recipe.minutes.astype('int32')\n",
        "recipe.n_steps=recipe.n_steps.astype('int32')\n",
        "recipe.n_ingredients=recipe.n_ingredients.astype('int32')\n",
        "recipe.name_recipe=recipe.name_recipe.astype('string')\n",
        "recipe.description_recipe=recipe.description_recipe.astype('string')"
      ],
      "execution_count": 443,
      "outputs": []
    },
    {
      "cell_type": "code",
      "metadata": {
        "id": "4NTBJtfKyMPK",
        "colab": {
          "base_uri": "https://localhost:8080/"
        },
        "outputId": "f38b5cb6-e192-4cd8-8b66-288a6f6bffe5"
      },
      "source": [
        "recipe.info()"
      ],
      "execution_count": 444,
      "outputs": [
        {
          "output_type": "stream",
          "text": [
            "<class 'pandas.core.frame.DataFrame'>\n",
            "Int64Index: 226657 entries, 0 to 231636\n",
            "Data columns (total 7 columns):\n",
            " #   Column              Non-Null Count   Dtype \n",
            "---  ------              --------------   ----- \n",
            " 0   name_recipe         226657 non-null  string\n",
            " 1   id                  226657 non-null  int32 \n",
            " 2   minutes             226657 non-null  int32 \n",
            " 3   contributor_id      226657 non-null  int64 \n",
            " 4   n_steps             226657 non-null  int32 \n",
            " 5   description_recipe  226657 non-null  string\n",
            " 6   n_ingredients       226657 non-null  int32 \n",
            "dtypes: int32(4), int64(1), string(2)\n",
            "memory usage: 10.4 MB\n"
          ],
          "name": "stdout"
        }
      ]
    },
    {
      "cell_type": "markdown",
      "metadata": {
        "id": "k0n4nz1hbZc3"
      },
      "source": [
        "#Sort columns\n"
      ]
    },
    {
      "cell_type": "code",
      "metadata": {
        "id": "ytzOcXaLbYwd"
      },
      "source": [
        "inserted_cols = ['id', 'name_recipe', 'minutes','n_steps','n_ingredients','description_recipe' ]\n",
        "cols = ([col for col in inserted_cols if col in data] \n",
        "        + [col for col in data if col not in inserted_cols])\n",
        "data = data[cols]"
      ],
      "execution_count": 445,
      "outputs": []
    },
    {
      "cell_type": "code",
      "metadata": {
        "colab": {
          "base_uri": "https://localhost:8080/",
          "height": 0
        },
        "id": "LJuZ0r-HcS6B",
        "outputId": "da29503a-41fc-489f-9d68-3c32420726e4"
      },
      "source": [
        "data"
      ],
      "execution_count": 446,
      "outputs": [
        {
          "output_type": "execute_result",
          "data": {
            "text/html": [
              "<div>\n",
              "<style scoped>\n",
              "    .dataframe tbody tr th:only-of-type {\n",
              "        vertical-align: middle;\n",
              "    }\n",
              "\n",
              "    .dataframe tbody tr th {\n",
              "        vertical-align: top;\n",
              "    }\n",
              "\n",
              "    .dataframe thead th {\n",
              "        text-align: right;\n",
              "    }\n",
              "</style>\n",
              "<table border=\"1\" class=\"dataframe\">\n",
              "  <thead>\n",
              "    <tr style=\"text-align: right;\">\n",
              "      <th></th>\n",
              "      <th>id</th>\n",
              "      <th>minutes</th>\n",
              "      <th>n_steps</th>\n",
              "      <th>n_ingredients</th>\n",
              "      <th>name</th>\n",
              "      <th>contributor_id</th>\n",
              "      <th>submitted</th>\n",
              "      <th>tags</th>\n",
              "      <th>nutrition</th>\n",
              "      <th>steps</th>\n",
              "      <th>description</th>\n",
              "      <th>ingredients</th>\n",
              "    </tr>\n",
              "  </thead>\n",
              "  <tbody>\n",
              "    <tr>\n",
              "      <th>0</th>\n",
              "      <td>137739</td>\n",
              "      <td>55</td>\n",
              "      <td>11</td>\n",
              "      <td>7</td>\n",
              "      <td>arriba   baked winter squash mexican style</td>\n",
              "      <td>47892</td>\n",
              "      <td>2005-09-16</td>\n",
              "      <td>['60-minutes-or-less', 'time-to-make', 'course...</td>\n",
              "      <td>[51.5, 0.0, 13.0, 0.0, 2.0, 0.0, 4.0]</td>\n",
              "      <td>['make a choice and proceed with recipe', 'dep...</td>\n",
              "      <td>autumn is my favorite time of year to cook! th...</td>\n",
              "      <td>['winter squash', 'mexican seasoning', 'mixed ...</td>\n",
              "    </tr>\n",
              "    <tr>\n",
              "      <th>1</th>\n",
              "      <td>31490</td>\n",
              "      <td>30</td>\n",
              "      <td>9</td>\n",
              "      <td>6</td>\n",
              "      <td>a bit different  breakfast pizza</td>\n",
              "      <td>26278</td>\n",
              "      <td>2002-06-17</td>\n",
              "      <td>['30-minutes-or-less', 'time-to-make', 'course...</td>\n",
              "      <td>[173.4, 18.0, 0.0, 17.0, 22.0, 35.0, 1.0]</td>\n",
              "      <td>['preheat oven to 425 degrees f', 'press dough...</td>\n",
              "      <td>this recipe calls for the crust to be prebaked...</td>\n",
              "      <td>['prepared pizza crust', 'sausage patty', 'egg...</td>\n",
              "    </tr>\n",
              "    <tr>\n",
              "      <th>2</th>\n",
              "      <td>112140</td>\n",
              "      <td>130</td>\n",
              "      <td>6</td>\n",
              "      <td>13</td>\n",
              "      <td>all in the kitchen  chili</td>\n",
              "      <td>196586</td>\n",
              "      <td>2005-02-25</td>\n",
              "      <td>['time-to-make', 'course', 'preparation', 'mai...</td>\n",
              "      <td>[269.8, 22.0, 32.0, 48.0, 39.0, 27.0, 5.0]</td>\n",
              "      <td>['brown ground beef in large pot', 'add choppe...</td>\n",
              "      <td>this modified version of 'mom's' chili was a h...</td>\n",
              "      <td>['ground beef', 'yellow onions', 'diced tomato...</td>\n",
              "    </tr>\n",
              "    <tr>\n",
              "      <th>3</th>\n",
              "      <td>59389</td>\n",
              "      <td>45</td>\n",
              "      <td>11</td>\n",
              "      <td>11</td>\n",
              "      <td>alouette  potatoes</td>\n",
              "      <td>68585</td>\n",
              "      <td>2003-04-14</td>\n",
              "      <td>['60-minutes-or-less', 'time-to-make', 'course...</td>\n",
              "      <td>[368.1, 17.0, 10.0, 2.0, 14.0, 8.0, 20.0]</td>\n",
              "      <td>['place potatoes in a large pot of lightly sal...</td>\n",
              "      <td>this is a super easy, great tasting, make ahea...</td>\n",
              "      <td>['spreadable cheese with garlic and herbs', 'n...</td>\n",
              "    </tr>\n",
              "    <tr>\n",
              "      <th>4</th>\n",
              "      <td>44061</td>\n",
              "      <td>190</td>\n",
              "      <td>5</td>\n",
              "      <td>8</td>\n",
              "      <td>amish  tomato ketchup  for canning</td>\n",
              "      <td>41706</td>\n",
              "      <td>2002-10-25</td>\n",
              "      <td>['weeknight', 'time-to-make', 'course', 'main-...</td>\n",
              "      <td>[352.9, 1.0, 337.0, 23.0, 3.0, 0.0, 28.0]</td>\n",
              "      <td>['mix all ingredients&amp; boil for 2 1 / 2 hours ...</td>\n",
              "      <td>my dh's amish mother raised him on this recipe...</td>\n",
              "      <td>['tomato juice', 'apple cider vinegar', 'sugar...</td>\n",
              "    </tr>\n",
              "    <tr>\n",
              "      <th>...</th>\n",
              "      <td>...</td>\n",
              "      <td>...</td>\n",
              "      <td>...</td>\n",
              "      <td>...</td>\n",
              "      <td>...</td>\n",
              "      <td>...</td>\n",
              "      <td>...</td>\n",
              "      <td>...</td>\n",
              "      <td>...</td>\n",
              "      <td>...</td>\n",
              "      <td>...</td>\n",
              "      <td>...</td>\n",
              "    </tr>\n",
              "    <tr>\n",
              "      <th>231632</th>\n",
              "      <td>486161</td>\n",
              "      <td>60</td>\n",
              "      <td>7</td>\n",
              "      <td>22</td>\n",
              "      <td>zydeco soup</td>\n",
              "      <td>227978</td>\n",
              "      <td>2012-08-29</td>\n",
              "      <td>['ham', '60-minutes-or-less', 'time-to-make', ...</td>\n",
              "      <td>[415.2, 26.0, 34.0, 26.0, 44.0, 21.0, 15.0]</td>\n",
              "      <td>['heat oil in a 4-quart dutch oven', 'add cele...</td>\n",
              "      <td>this is a delicious soup that i originally fou...</td>\n",
              "      <td>['celery', 'onion', 'green sweet pepper', 'gar...</td>\n",
              "    </tr>\n",
              "    <tr>\n",
              "      <th>231633</th>\n",
              "      <td>493372</td>\n",
              "      <td>5</td>\n",
              "      <td>1</td>\n",
              "      <td>13</td>\n",
              "      <td>zydeco spice mix</td>\n",
              "      <td>1500678</td>\n",
              "      <td>2013-01-09</td>\n",
              "      <td>['15-minutes-or-less', 'time-to-make', 'course...</td>\n",
              "      <td>[14.8, 0.0, 2.0, 58.0, 1.0, 0.0, 1.0]</td>\n",
              "      <td>['mix all ingredients together thoroughly']</td>\n",
              "      <td>this spice mix will make your taste buds dance!</td>\n",
              "      <td>['paprika', 'salt', 'garlic powder', 'onion po...</td>\n",
              "    </tr>\n",
              "    <tr>\n",
              "      <th>231634</th>\n",
              "      <td>308080</td>\n",
              "      <td>40</td>\n",
              "      <td>7</td>\n",
              "      <td>8</td>\n",
              "      <td>zydeco ya ya deviled eggs</td>\n",
              "      <td>37779</td>\n",
              "      <td>2008-06-07</td>\n",
              "      <td>['60-minutes-or-less', 'time-to-make', 'course...</td>\n",
              "      <td>[59.2, 6.0, 2.0, 3.0, 6.0, 5.0, 0.0]</td>\n",
              "      <td>['in a bowl , combine the mashed yolks and may...</td>\n",
              "      <td>deviled eggs, cajun-style</td>\n",
              "      <td>['hard-cooked eggs', 'mayonnaise', 'dijon must...</td>\n",
              "    </tr>\n",
              "    <tr>\n",
              "      <th>231635</th>\n",
              "      <td>298512</td>\n",
              "      <td>29</td>\n",
              "      <td>9</td>\n",
              "      <td>10</td>\n",
              "      <td>cookies by design   cookies on a stick</td>\n",
              "      <td>506822</td>\n",
              "      <td>2008-04-15</td>\n",
              "      <td>['30-minutes-or-less', 'time-to-make', 'course...</td>\n",
              "      <td>[188.0, 11.0, 57.0, 11.0, 7.0, 21.0, 9.0]</td>\n",
              "      <td>['place melted butter in a large mixing bowl a...</td>\n",
              "      <td>i've heard of the 'cookies by design' company,...</td>\n",
              "      <td>['butter', 'eagle brand condensed milk', 'ligh...</td>\n",
              "    </tr>\n",
              "    <tr>\n",
              "      <th>231636</th>\n",
              "      <td>298509</td>\n",
              "      <td>20</td>\n",
              "      <td>5</td>\n",
              "      <td>7</td>\n",
              "      <td>cookies by design   sugar shortbread cookies</td>\n",
              "      <td>506822</td>\n",
              "      <td>2008-04-15</td>\n",
              "      <td>['30-minutes-or-less', 'time-to-make', 'course...</td>\n",
              "      <td>[174.9, 14.0, 33.0, 4.0, 4.0, 11.0, 6.0]</td>\n",
              "      <td>['whip sugar and shortening in a large bowl , ...</td>\n",
              "      <td>i've heard of the 'cookies by design' company,...</td>\n",
              "      <td>['granulated sugar', 'shortening', 'eggs', 'fl...</td>\n",
              "    </tr>\n",
              "  </tbody>\n",
              "</table>\n",
              "<p>231637 rows × 12 columns</p>\n",
              "</div>"
            ],
            "text/plain": [
              "            id  ...                                        ingredients\n",
              "0       137739  ...  ['winter squash', 'mexican seasoning', 'mixed ...\n",
              "1        31490  ...  ['prepared pizza crust', 'sausage patty', 'egg...\n",
              "2       112140  ...  ['ground beef', 'yellow onions', 'diced tomato...\n",
              "3        59389  ...  ['spreadable cheese with garlic and herbs', 'n...\n",
              "4        44061  ...  ['tomato juice', 'apple cider vinegar', 'sugar...\n",
              "...        ...  ...                                                ...\n",
              "231632  486161  ...  ['celery', 'onion', 'green sweet pepper', 'gar...\n",
              "231633  493372  ...  ['paprika', 'salt', 'garlic powder', 'onion po...\n",
              "231634  308080  ...  ['hard-cooked eggs', 'mayonnaise', 'dijon must...\n",
              "231635  298512  ...  ['butter', 'eagle brand condensed milk', 'ligh...\n",
              "231636  298509  ...  ['granulated sugar', 'shortening', 'eggs', 'fl...\n",
              "\n",
              "[231637 rows x 12 columns]"
            ]
          },
          "metadata": {
            "tags": []
          },
          "execution_count": 446
        }
      ]
    },
    {
      "cell_type": "code",
      "metadata": {
        "colab": {
          "base_uri": "https://localhost:8080/",
          "height": 0
        },
        "id": "8mY9o9fLXSAi",
        "outputId": "5a41f297-40be-4d11-dcc0-ba0db797b3fc"
      },
      "source": [
        "inserted_cols = ['recipe_id', 'classification_id', 'classification_group' ]\n",
        "cols = ([col for col in inserted_cols if col in recipe_classification] \n",
        "        + [col for col in recipe_classification if col not in inserted_cols])\n",
        "recipe_classification = recipe_classification[cols]\n",
        "recipe_classification"
      ],
      "execution_count": 447,
      "outputs": [
        {
          "output_type": "execute_result",
          "data": {
            "text/html": [
              "<div>\n",
              "<style scoped>\n",
              "    .dataframe tbody tr th:only-of-type {\n",
              "        vertical-align: middle;\n",
              "    }\n",
              "\n",
              "    .dataframe tbody tr th {\n",
              "        vertical-align: top;\n",
              "    }\n",
              "\n",
              "    .dataframe thead th {\n",
              "        text-align: right;\n",
              "    }\n",
              "</style>\n",
              "<table border=\"1\" class=\"dataframe\">\n",
              "  <thead>\n",
              "    <tr style=\"text-align: right;\">\n",
              "      <th></th>\n",
              "      <th>recipe_id</th>\n",
              "      <th>classification_id</th>\n",
              "      <th>classification_group</th>\n",
              "    </tr>\n",
              "  </thead>\n",
              "  <tbody>\n",
              "    <tr>\n",
              "      <th>0</th>\n",
              "      <td>38</td>\n",
              "      <td>1</td>\n",
              "      <td>red</td>\n",
              "    </tr>\n",
              "    <tr>\n",
              "      <th>1</th>\n",
              "      <td>39</td>\n",
              "      <td>5</td>\n",
              "      <td>green</td>\n",
              "    </tr>\n",
              "    <tr>\n",
              "      <th>2</th>\n",
              "      <td>40</td>\n",
              "      <td>1</td>\n",
              "      <td>red</td>\n",
              "    </tr>\n",
              "    <tr>\n",
              "      <th>3</th>\n",
              "      <td>41</td>\n",
              "      <td>0</td>\n",
              "      <td>red</td>\n",
              "    </tr>\n",
              "    <tr>\n",
              "      <th>4</th>\n",
              "      <td>43</td>\n",
              "      <td>0</td>\n",
              "      <td>red</td>\n",
              "    </tr>\n",
              "    <tr>\n",
              "      <th>...</th>\n",
              "      <td>...</td>\n",
              "      <td>...</td>\n",
              "      <td>...</td>\n",
              "    </tr>\n",
              "    <tr>\n",
              "      <th>226649</th>\n",
              "      <td>537459</td>\n",
              "      <td>1</td>\n",
              "      <td>red</td>\n",
              "    </tr>\n",
              "    <tr>\n",
              "      <th>226650</th>\n",
              "      <td>537485</td>\n",
              "      <td>1</td>\n",
              "      <td>red</td>\n",
              "    </tr>\n",
              "    <tr>\n",
              "      <th>226651</th>\n",
              "      <td>537543</td>\n",
              "      <td>5</td>\n",
              "      <td>green</td>\n",
              "    </tr>\n",
              "    <tr>\n",
              "      <th>226652</th>\n",
              "      <td>537671</td>\n",
              "      <td>1</td>\n",
              "      <td>red</td>\n",
              "    </tr>\n",
              "    <tr>\n",
              "      <th>226653</th>\n",
              "      <td>537716</td>\n",
              "      <td>0</td>\n",
              "      <td>red</td>\n",
              "    </tr>\n",
              "  </tbody>\n",
              "</table>\n",
              "<p>226654 rows × 3 columns</p>\n",
              "</div>"
            ],
            "text/plain": [
              "        recipe_id  classification_id classification_group\n",
              "0              38                  1                  red\n",
              "1              39                  5                green\n",
              "2              40                  1                  red\n",
              "3              41                  0                  red\n",
              "4              43                  0                  red\n",
              "...           ...                ...                  ...\n",
              "226649     537459                  1                  red\n",
              "226650     537485                  1                  red\n",
              "226651     537543                  5                green\n",
              "226652     537671                  1                  red\n",
              "226653     537716                  0                  red\n",
              "\n",
              "[226654 rows x 3 columns]"
            ]
          },
          "metadata": {
            "tags": []
          },
          "execution_count": 447
        }
      ]
    },
    {
      "cell_type": "markdown",
      "metadata": {
        "id": "H3PBveK9x0lw"
      },
      "source": [
        "# Download csv\n",
        "\n"
      ]
    },
    {
      "cell_type": "code",
      "metadata": {
        "colab": {
          "base_uri": "https://localhost:8080/",
          "height": 17
        },
        "id": "H1L4ULhqnmDw",
        "outputId": "2b63c0c8-9a21-48d1-d6a4-8d387e149507"
      },
      "source": [
        "from google.colab import files\n",
        "recipes.to_csv('recipes.csv') \n",
        "files.download('recipes.csv')"
      ],
      "execution_count": 331,
      "outputs": [
        {
          "output_type": "display_data",
          "data": {
            "application/javascript": [
              "\n",
              "    async function download(id, filename, size) {\n",
              "      if (!google.colab.kernel.accessAllowed) {\n",
              "        return;\n",
              "      }\n",
              "      const div = document.createElement('div');\n",
              "      const label = document.createElement('label');\n",
              "      label.textContent = `Downloading \"${filename}\": `;\n",
              "      div.appendChild(label);\n",
              "      const progress = document.createElement('progress');\n",
              "      progress.max = size;\n",
              "      div.appendChild(progress);\n",
              "      document.body.appendChild(div);\n",
              "\n",
              "      const buffers = [];\n",
              "      let downloaded = 0;\n",
              "\n",
              "      const channel = await google.colab.kernel.comms.open(id);\n",
              "      // Send a message to notify the kernel that we're ready.\n",
              "      channel.send({})\n",
              "\n",
              "      for await (const message of channel.messages) {\n",
              "        // Send a message to notify the kernel that we're ready.\n",
              "        channel.send({})\n",
              "        if (message.buffers) {\n",
              "          for (const buffer of message.buffers) {\n",
              "            buffers.push(buffer);\n",
              "            downloaded += buffer.byteLength;\n",
              "            progress.value = downloaded;\n",
              "          }\n",
              "        }\n",
              "      }\n",
              "      const blob = new Blob(buffers, {type: 'application/binary'});\n",
              "      const a = document.createElement('a');\n",
              "      a.href = window.URL.createObjectURL(blob);\n",
              "      a.download = filename;\n",
              "      div.appendChild(a);\n",
              "      a.click();\n",
              "      div.remove();\n",
              "    }\n",
              "  "
            ],
            "text/plain": [
              "<IPython.core.display.Javascript object>"
            ]
          },
          "metadata": {
            "tags": []
          }
        },
        {
          "output_type": "display_data",
          "data": {
            "application/javascript": [
              "download(\"download_083e85fe-0072-4d88-81ad-40bffbaf4312\", \"recipes.csv\", 57223717)"
            ],
            "text/plain": [
              "<IPython.core.display.Javascript object>"
            ]
          },
          "metadata": {
            "tags": []
          }
        }
      ]
    },
    {
      "cell_type": "code",
      "metadata": {
        "colab": {
          "base_uri": "https://localhost:8080/",
          "height": 17
        },
        "id": "K68YeHH9YMYV",
        "outputId": "c7bf208f-7890-4010-d852-43bb09a41270"
      },
      "source": [
        "from google.colab import files\n",
        "interaction.to_csv('interaction.csv') \n",
        "files.download('interaction.csv')"
      ],
      "execution_count": 449,
      "outputs": [
        {
          "output_type": "display_data",
          "data": {
            "application/javascript": [
              "\n",
              "    async function download(id, filename, size) {\n",
              "      if (!google.colab.kernel.accessAllowed) {\n",
              "        return;\n",
              "      }\n",
              "      const div = document.createElement('div');\n",
              "      const label = document.createElement('label');\n",
              "      label.textContent = `Downloading \"${filename}\": `;\n",
              "      div.appendChild(label);\n",
              "      const progress = document.createElement('progress');\n",
              "      progress.max = size;\n",
              "      div.appendChild(progress);\n",
              "      document.body.appendChild(div);\n",
              "\n",
              "      const buffers = [];\n",
              "      let downloaded = 0;\n",
              "\n",
              "      const channel = await google.colab.kernel.comms.open(id);\n",
              "      // Send a message to notify the kernel that we're ready.\n",
              "      channel.send({})\n",
              "\n",
              "      for await (const message of channel.messages) {\n",
              "        // Send a message to notify the kernel that we're ready.\n",
              "        channel.send({})\n",
              "        if (message.buffers) {\n",
              "          for (const buffer of message.buffers) {\n",
              "            buffers.push(buffer);\n",
              "            downloaded += buffer.byteLength;\n",
              "            progress.value = downloaded;\n",
              "          }\n",
              "        }\n",
              "      }\n",
              "      const blob = new Blob(buffers, {type: 'application/binary'});\n",
              "      const a = document.createElement('a');\n",
              "      a.href = window.URL.createObjectURL(blob);\n",
              "      a.download = filename;\n",
              "      div.appendChild(a);\n",
              "      a.click();\n",
              "      div.remove();\n",
              "    }\n",
              "  "
            ],
            "text/plain": [
              "<IPython.core.display.Javascript object>"
            ]
          },
          "metadata": {
            "tags": []
          }
        },
        {
          "output_type": "display_data",
          "data": {
            "application/javascript": [
              "download(\"download_278762cd-513f-4d41-b82a-ea6e4d602c06\", \"interaction.csv\", 65004534)"
            ],
            "text/plain": [
              "<IPython.core.display.Javascript object>"
            ]
          },
          "metadata": {
            "tags": []
          }
        }
      ]
    },
    {
      "cell_type": "code",
      "metadata": {
        "colab": {
          "base_uri": "https://localhost:8080/",
          "height": 17
        },
        "id": "gxFlJx6yYPl_",
        "outputId": "e5d2484f-74ae-46e9-fe00-c2d802544247"
      },
      "source": [
        "from google.colab import files\n",
        "recipe_classification.to_csv('recipe_classification.csv') \n",
        "files.download('recipe_classification.csv')"
      ],
      "execution_count": 450,
      "outputs": [
        {
          "output_type": "display_data",
          "data": {
            "application/javascript": [
              "\n",
              "    async function download(id, filename, size) {\n",
              "      if (!google.colab.kernel.accessAllowed) {\n",
              "        return;\n",
              "      }\n",
              "      const div = document.createElement('div');\n",
              "      const label = document.createElement('label');\n",
              "      label.textContent = `Downloading \"${filename}\": `;\n",
              "      div.appendChild(label);\n",
              "      const progress = document.createElement('progress');\n",
              "      progress.max = size;\n",
              "      div.appendChild(progress);\n",
              "      document.body.appendChild(div);\n",
              "\n",
              "      const buffers = [];\n",
              "      let downloaded = 0;\n",
              "\n",
              "      const channel = await google.colab.kernel.comms.open(id);\n",
              "      // Send a message to notify the kernel that we're ready.\n",
              "      channel.send({})\n",
              "\n",
              "      for await (const message of channel.messages) {\n",
              "        // Send a message to notify the kernel that we're ready.\n",
              "        channel.send({})\n",
              "        if (message.buffers) {\n",
              "          for (const buffer of message.buffers) {\n",
              "            buffers.push(buffer);\n",
              "            downloaded += buffer.byteLength;\n",
              "            progress.value = downloaded;\n",
              "          }\n",
              "        }\n",
              "      }\n",
              "      const blob = new Blob(buffers, {type: 'application/binary'});\n",
              "      const a = document.createElement('a');\n",
              "      a.href = window.URL.createObjectURL(blob);\n",
              "      a.download = filename;\n",
              "      div.appendChild(a);\n",
              "      a.click();\n",
              "      div.remove();\n",
              "    }\n",
              "  "
            ],
            "text/plain": [
              "<IPython.core.display.Javascript object>"
            ]
          },
          "metadata": {
            "tags": []
          }
        },
        {
          "output_type": "display_data",
          "data": {
            "application/javascript": [
              "download(\"download_aa8d48f1-1747-4420-ad7d-7862f45a633d\", \"recipe_classification.csv\", 4401505)"
            ],
            "text/plain": [
              "<IPython.core.display.Javascript object>"
            ]
          },
          "metadata": {
            "tags": []
          }
        }
      ]
    },
    {
      "cell_type": "code",
      "metadata": {
        "colab": {
          "base_uri": "https://localhost:8080/",
          "height": 17
        },
        "id": "ME2XSAcqYXsZ",
        "outputId": "cf78f4a1-74b0-40f5-e680-420362cc8f05"
      },
      "source": [
        "from google.colab import files\n",
        "nutrition.to_csv('nutrition.csv') \n",
        "files.download('nutrition.csv')"
      ],
      "execution_count": 451,
      "outputs": [
        {
          "output_type": "display_data",
          "data": {
            "application/javascript": [
              "\n",
              "    async function download(id, filename, size) {\n",
              "      if (!google.colab.kernel.accessAllowed) {\n",
              "        return;\n",
              "      }\n",
              "      const div = document.createElement('div');\n",
              "      const label = document.createElement('label');\n",
              "      label.textContent = `Downloading \"${filename}\": `;\n",
              "      div.appendChild(label);\n",
              "      const progress = document.createElement('progress');\n",
              "      progress.max = size;\n",
              "      div.appendChild(progress);\n",
              "      document.body.appendChild(div);\n",
              "\n",
              "      const buffers = [];\n",
              "      let downloaded = 0;\n",
              "\n",
              "      const channel = await google.colab.kernel.comms.open(id);\n",
              "      // Send a message to notify the kernel that we're ready.\n",
              "      channel.send({})\n",
              "\n",
              "      for await (const message of channel.messages) {\n",
              "        // Send a message to notify the kernel that we're ready.\n",
              "        channel.send({})\n",
              "        if (message.buffers) {\n",
              "          for (const buffer of message.buffers) {\n",
              "            buffers.push(buffer);\n",
              "            downloaded += buffer.byteLength;\n",
              "            progress.value = downloaded;\n",
              "          }\n",
              "        }\n",
              "      }\n",
              "      const blob = new Blob(buffers, {type: 'application/binary'});\n",
              "      const a = document.createElement('a');\n",
              "      a.href = window.URL.createObjectURL(blob);\n",
              "      a.download = filename;\n",
              "      div.appendChild(a);\n",
              "      a.click();\n",
              "      div.remove();\n",
              "    }\n",
              "  "
            ],
            "text/plain": [
              "<IPython.core.display.Javascript object>"
            ]
          },
          "metadata": {
            "tags": []
          }
        },
        {
          "output_type": "display_data",
          "data": {
            "application/javascript": [
              "download(\"download_8409a47b-e1ee-400d-9004-4f4719862d6b\", \"nutrition.csv\", 9734413)"
            ],
            "text/plain": [
              "<IPython.core.display.Javascript object>"
            ]
          },
          "metadata": {
            "tags": []
          }
        }
      ]
    },
    {
      "cell_type": "code",
      "metadata": {
        "colab": {
          "base_uri": "https://localhost:8080/",
          "height": 17
        },
        "id": "g0XFDTZQ5omt",
        "outputId": "1519ddf3-2c92-4242-aa34-749e9b8aff79"
      },
      "source": [
        "# from google.colab import files\n",
        "# other_columns.to_csv('recipes_other_columns.csv') \n",
        "# files.download('recipes_other_columns.csv')"
      ],
      "execution_count": null,
      "outputs": [
        {
          "output_type": "display_data",
          "data": {
            "application/javascript": [
              "\n",
              "    async function download(id, filename, size) {\n",
              "      if (!google.colab.kernel.accessAllowed) {\n",
              "        return;\n",
              "      }\n",
              "      const div = document.createElement('div');\n",
              "      const label = document.createElement('label');\n",
              "      label.textContent = `Downloading \"${filename}\": `;\n",
              "      div.appendChild(label);\n",
              "      const progress = document.createElement('progress');\n",
              "      progress.max = size;\n",
              "      div.appendChild(progress);\n",
              "      document.body.appendChild(div);\n",
              "\n",
              "      const buffers = [];\n",
              "      let downloaded = 0;\n",
              "\n",
              "      const channel = await google.colab.kernel.comms.open(id);\n",
              "      // Send a message to notify the kernel that we're ready.\n",
              "      channel.send({})\n",
              "\n",
              "      for await (const message of channel.messages) {\n",
              "        // Send a message to notify the kernel that we're ready.\n",
              "        channel.send({})\n",
              "        if (message.buffers) {\n",
              "          for (const buffer of message.buffers) {\n",
              "            buffers.push(buffer);\n",
              "            downloaded += buffer.byteLength;\n",
              "            progress.value = downloaded;\n",
              "          }\n",
              "        }\n",
              "      }\n",
              "      const blob = new Blob(buffers, {type: 'application/binary'});\n",
              "      const a = document.createElement('a');\n",
              "      a.href = window.URL.createObjectURL(blob);\n",
              "      a.download = filename;\n",
              "      div.appendChild(a);\n",
              "      a.click();\n",
              "      div.remove();\n",
              "    }\n",
              "  "
            ],
            "text/plain": [
              "<IPython.core.display.Javascript object>"
            ]
          },
          "metadata": {
            "tags": []
          }
        },
        {
          "output_type": "display_data",
          "data": {
            "application/javascript": [
              "download(\"download_4384e0b3-2215-47c8-b777-21766e9d4097\", \"recipes_other_columns.csv\", 230479882)"
            ],
            "text/plain": [
              "<IPython.core.display.Javascript object>"
            ]
          },
          "metadata": {
            "tags": []
          }
        }
      ]
    }
  ]
}